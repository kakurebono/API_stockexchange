{
 "cells": [
  {
   "cell_type": "code",
   "execution_count": 1,
   "metadata": {},
   "outputs": [],
   "source": [
    "import pandas as pd\n",
    "\n",
    "data_open = pd.read_csv('stock_data_open.csv')\n",
    "data_close = pd.read_csv('stock_data_close.csv')\n",
    "data_low = pd.read_csv('stock_data_low.csv')\n",
    "data_high = pd.read_csv('stock_data_high.csv')\n",
    "data_volume = pd.read_csv('stock_data_volume.csv')"
   ]
  },
  {
   "cell_type": "code",
   "execution_count": 10,
   "metadata": {},
   "outputs": [],
   "source": [
    "data = pd.merge(data_open, data_close, left_on = ['index', 'Company'], right_on = ['index', 'Company']) #merging data"
   ]
  },
  {
   "cell_type": "code",
   "execution_count": 12,
   "metadata": {},
   "outputs": [],
   "source": [
    "data = pd.merge(data, data_low, left_on = ['index', 'Company'], right_on = ['index', 'Company'])"
   ]
  },
  {
   "cell_type": "code",
   "execution_count": 14,
   "metadata": {},
   "outputs": [],
   "source": [
    "data = pd.merge(data, data_high, left_on = ['index', 'Company'], right_on = ['index', 'Company'])\n",
    "data = pd.merge(data, data_volume, left_on = ['index', 'Company'], right_on = ['index', 'Company'])"
   ]
  },
  {
   "cell_type": "code",
   "execution_count": 16,
   "metadata": {},
   "outputs": [],
   "source": [
    "data = data[['index', 'Company' , 'Price' , 'Adj Close' , 'low Price' , 'High Price' , 'Volume']] #filtering"
   ]
  },
  {
   "cell_type": "code",
   "execution_count": 17,
   "metadata": {},
   "outputs": [
    {
     "data": {
      "text/html": [
       "<div>\n",
       "<style scoped>\n",
       "    .dataframe tbody tr th:only-of-type {\n",
       "        vertical-align: middle;\n",
       "    }\n",
       "\n",
       "    .dataframe tbody tr th {\n",
       "        vertical-align: top;\n",
       "    }\n",
       "\n",
       "    .dataframe thead th {\n",
       "        text-align: right;\n",
       "    }\n",
       "</style>\n",
       "<table border=\"1\" class=\"dataframe\">\n",
       "  <thead>\n",
       "    <tr style=\"text-align: right;\">\n",
       "      <th></th>\n",
       "      <th>index</th>\n",
       "      <th>Company</th>\n",
       "      <th>Price</th>\n",
       "      <th>Adj Close</th>\n",
       "      <th>low Price</th>\n",
       "      <th>High Price</th>\n",
       "      <th>Volume</th>\n",
       "    </tr>\n",
       "  </thead>\n",
       "  <tbody>\n",
       "    <tr>\n",
       "      <th>0</th>\n",
       "      <td>2020-12-11</td>\n",
       "      <td>AAPL</td>\n",
       "      <td>122.410</td>\n",
       "      <td>122.410</td>\n",
       "      <td>120.5500</td>\n",
       "      <td>122.76</td>\n",
       "      <td>86939786</td>\n",
       "    </tr>\n",
       "    <tr>\n",
       "      <th>1</th>\n",
       "      <td>2020-12-10</td>\n",
       "      <td>AAPL</td>\n",
       "      <td>123.240</td>\n",
       "      <td>123.240</td>\n",
       "      <td>120.1500</td>\n",
       "      <td>123.87</td>\n",
       "      <td>81312170</td>\n",
       "    </tr>\n",
       "    <tr>\n",
       "      <th>2</th>\n",
       "      <td>2020-12-09</td>\n",
       "      <td>AAPL</td>\n",
       "      <td>121.780</td>\n",
       "      <td>121.780</td>\n",
       "      <td>121.0000</td>\n",
       "      <td>125.95</td>\n",
       "      <td>115089193</td>\n",
       "    </tr>\n",
       "    <tr>\n",
       "      <th>3</th>\n",
       "      <td>2020-12-08</td>\n",
       "      <td>AAPL</td>\n",
       "      <td>124.380</td>\n",
       "      <td>124.380</td>\n",
       "      <td>123.0900</td>\n",
       "      <td>124.98</td>\n",
       "      <td>82225512</td>\n",
       "    </tr>\n",
       "    <tr>\n",
       "      <th>4</th>\n",
       "      <td>2020-12-07</td>\n",
       "      <td>AAPL</td>\n",
       "      <td>123.750</td>\n",
       "      <td>123.750</td>\n",
       "      <td>122.2500</td>\n",
       "      <td>124.57</td>\n",
       "      <td>86711990</td>\n",
       "    </tr>\n",
       "    <tr>\n",
       "      <th>...</th>\n",
       "      <td>...</td>\n",
       "      <td>...</td>\n",
       "      <td>...</td>\n",
       "      <td>...</td>\n",
       "      <td>...</td>\n",
       "      <td>...</td>\n",
       "      <td>...</td>\n",
       "    </tr>\n",
       "    <tr>\n",
       "      <th>395</th>\n",
       "      <td>2020-07-29</td>\n",
       "      <td>TSLA</td>\n",
       "      <td>299.822</td>\n",
       "      <td>299.822</td>\n",
       "      <td>1487.0000</td>\n",
       "      <td>1534.81</td>\n",
       "      <td>9426893</td>\n",
       "    </tr>\n",
       "    <tr>\n",
       "      <th>396</th>\n",
       "      <td>2020-07-28</td>\n",
       "      <td>TSLA</td>\n",
       "      <td>295.298</td>\n",
       "      <td>295.298</td>\n",
       "      <td>1474.4200</td>\n",
       "      <td>1564.70</td>\n",
       "      <td>15808700</td>\n",
       "    </tr>\n",
       "    <tr>\n",
       "      <th>397</th>\n",
       "      <td>2020-07-27</td>\n",
       "      <td>TSLA</td>\n",
       "      <td>307.920</td>\n",
       "      <td>307.920</td>\n",
       "      <td>1413.0003</td>\n",
       "      <td>1547.94</td>\n",
       "      <td>16048669</td>\n",
       "    </tr>\n",
       "    <tr>\n",
       "      <th>398</th>\n",
       "      <td>2020-07-24</td>\n",
       "      <td>TSLA</td>\n",
       "      <td>283.400</td>\n",
       "      <td>283.400</td>\n",
       "      <td>1366.5401</td>\n",
       "      <td>1465.00</td>\n",
       "      <td>19396616</td>\n",
       "    </tr>\n",
       "    <tr>\n",
       "      <th>399</th>\n",
       "      <td>2020-07-23</td>\n",
       "      <td>TSLA</td>\n",
       "      <td>302.614</td>\n",
       "      <td>302.614</td>\n",
       "      <td>1480.7700</td>\n",
       "      <td>1689.00</td>\n",
       "      <td>24328504</td>\n",
       "    </tr>\n",
       "  </tbody>\n",
       "</table>\n",
       "<p>400 rows × 7 columns</p>\n",
       "</div>"
      ],
      "text/plain": [
       "          index Company    Price  Adj Close  low Price  High Price     Volume\n",
       "0    2020-12-11    AAPL  122.410    122.410   120.5500      122.76   86939786\n",
       "1    2020-12-10    AAPL  123.240    123.240   120.1500      123.87   81312170\n",
       "2    2020-12-09    AAPL  121.780    121.780   121.0000      125.95  115089193\n",
       "3    2020-12-08    AAPL  124.380    124.380   123.0900      124.98   82225512\n",
       "4    2020-12-07    AAPL  123.750    123.750   122.2500      124.57   86711990\n",
       "..          ...     ...      ...        ...        ...         ...        ...\n",
       "395  2020-07-29    TSLA  299.822    299.822  1487.0000     1534.81    9426893\n",
       "396  2020-07-28    TSLA  295.298    295.298  1474.4200     1564.70   15808700\n",
       "397  2020-07-27    TSLA  307.920    307.920  1413.0003     1547.94   16048669\n",
       "398  2020-07-24    TSLA  283.400    283.400  1366.5401     1465.00   19396616\n",
       "399  2020-07-23    TSLA  302.614    302.614  1480.7700     1689.00   24328504\n",
       "\n",
       "[400 rows x 7 columns]"
      ]
     },
     "execution_count": 17,
     "metadata": {},
     "output_type": "execute_result"
    }
   ],
   "source": [
    "data"
   ]
  },
  {
   "cell_type": "code",
   "execution_count": 18,
   "metadata": {},
   "outputs": [],
   "source": [
    "def return_inv(col):\n",
    "    \n",
    "    return ((col-col.shift(-1))/col.shift(-1)) * 100 #stock return calculation in %"
   ]
  },
  {
   "cell_type": "code",
   "execution_count": 21,
   "metadata": {},
   "outputs": [
    {
     "data": {
      "text/plain": [
       "index          object\n",
       "Company        object\n",
       "Price         float64\n",
       "Adj Close     float64\n",
       "low Price     float64\n",
       "High Price    float64\n",
       "Volume          int64\n",
       "dtype: object"
      ]
     },
     "execution_count": 21,
     "metadata": {},
     "output_type": "execute_result"
    }
   ],
   "source": []
  },
  {
   "cell_type": "code",
   "execution_count": null,
   "metadata": {},
   "outputs": [],
   "source": []
  },
  {
   "cell_type": "code",
   "execution_count": 22,
   "metadata": {},
   "outputs": [
    {
     "name": "stderr",
     "output_type": "stream",
     "text": [
      "/opt/anaconda3/lib/python3.8/site-packages/pandas/core/frame.py:2963: SettingWithCopyWarning: \n",
      "A value is trying to be set on a copy of a slice from a DataFrame.\n",
      "Try using .loc[row_indexer,col_indexer] = value instead\n",
      "\n",
      "See the caveats in the documentation: https://pandas.pydata.org/pandas-docs/stable/user_guide/indexing.html#returning-a-view-versus-a-copy\n",
      "  self[k1] = value[k2]\n"
     ]
    }
   ],
   "source": [
    "data[['returns']] = data[['Adj Close']].apply(return_inv)"
   ]
  },
  {
   "cell_type": "code",
   "execution_count": 24,
   "metadata": {},
   "outputs": [],
   "source": [
    "data.to_csv('final_data.csv')"
   ]
  },
  {
   "cell_type": "code",
   "execution_count": null,
   "metadata": {},
   "outputs": [],
   "source": []
  }
 ],
 "metadata": {
  "kernelspec": {
   "display_name": "Python 3",
   "language": "python",
   "name": "python3"
  },
  "language_info": {
   "codemirror_mode": {
    "name": "ipython",
    "version": 3
   },
   "file_extension": ".py",
   "mimetype": "text/x-python",
   "name": "python",
   "nbconvert_exporter": "python",
   "pygments_lexer": "ipython3",
   "version": "3.8.3"
  }
 },
 "nbformat": 4,
 "nbformat_minor": 4
}
